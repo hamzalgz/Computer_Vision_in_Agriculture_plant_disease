version https://git-lfs.github.com/spec/v1
oid sha256:e6172ba19400d92facd25b61fe64e636ab08363bbb3c608d3a2ad2bdf544112a
size 305147
