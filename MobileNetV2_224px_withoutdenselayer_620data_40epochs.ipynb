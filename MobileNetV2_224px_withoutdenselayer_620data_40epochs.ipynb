version https://git-lfs.github.com/spec/v1
oid sha256:f1e35a1faa80bd16419117465c852ec4cd69a90c9422041de06366f24bd4a1e8
size 297672
