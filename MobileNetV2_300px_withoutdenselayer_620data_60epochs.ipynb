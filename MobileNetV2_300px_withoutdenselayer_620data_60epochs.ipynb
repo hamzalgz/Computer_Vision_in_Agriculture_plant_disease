version https://git-lfs.github.com/spec/v1
oid sha256:1e83eb1f7f061cc77df3d06369b844eadd5e6dbf1596157990a8c5a4619cc4a5
size 346612
