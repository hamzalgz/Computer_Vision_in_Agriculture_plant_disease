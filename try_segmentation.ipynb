version https://git-lfs.github.com/spec/v1
oid sha256:b7033e2d87678ff187dc6a967f1051ab09f1219ee0c8b918366b96e758181ca7
size 682743
