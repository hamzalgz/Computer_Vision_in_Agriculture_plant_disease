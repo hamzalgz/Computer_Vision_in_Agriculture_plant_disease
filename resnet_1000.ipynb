version https://git-lfs.github.com/spec/v1
oid sha256:4fe90adfb233461b56292df29014cbad4554347035238e5f46f0287dc30853b7
size 408547
