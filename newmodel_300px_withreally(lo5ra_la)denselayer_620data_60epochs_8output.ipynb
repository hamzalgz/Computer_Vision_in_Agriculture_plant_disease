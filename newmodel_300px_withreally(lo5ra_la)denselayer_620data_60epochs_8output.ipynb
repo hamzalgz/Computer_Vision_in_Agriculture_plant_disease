version https://git-lfs.github.com/spec/v1
oid sha256:3ed28fa95f264bb460d6557706ba503269bb8fc796e4e7b08b52d498566e6665
size 284297
