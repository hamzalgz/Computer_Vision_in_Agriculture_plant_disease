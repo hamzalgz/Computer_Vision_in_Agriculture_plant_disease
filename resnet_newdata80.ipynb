version https://git-lfs.github.com/spec/v1
oid sha256:2a6dba953381cf87ee64aa10aa531b74c4e3f41cc080043172eabbf3d4150df5
size 422916
