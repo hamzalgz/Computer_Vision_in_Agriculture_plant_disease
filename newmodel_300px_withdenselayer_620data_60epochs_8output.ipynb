version https://git-lfs.github.com/spec/v1
oid sha256:b6dc586c76a0e563c89f629126f3ee564ae2045ad3a49fcb7b254824a1ec133f
size 293439
