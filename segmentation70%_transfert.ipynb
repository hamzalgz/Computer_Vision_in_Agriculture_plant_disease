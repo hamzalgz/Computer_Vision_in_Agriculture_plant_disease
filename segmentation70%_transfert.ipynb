version https://git-lfs.github.com/spec/v1
oid sha256:052241feb22fce281a4fe1442055adc7db4c31f0cae1ee0261a2fb4891b85f65
size 89931
