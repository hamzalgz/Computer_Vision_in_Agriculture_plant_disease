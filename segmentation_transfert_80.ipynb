version https://git-lfs.github.com/spec/v1
oid sha256:4eb41c113a2073dbec47a53e1c2ecc961eca5a16b834c4e6624c1117dca38997
size 105575
