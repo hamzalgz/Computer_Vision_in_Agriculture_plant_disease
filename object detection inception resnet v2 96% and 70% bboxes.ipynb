version https://git-lfs.github.com/spec/v1
oid sha256:c79174a39f0771e8a2bccda794c65c02a4bc48c0bc255b17f5e8172e5c020ef2
size 293994
