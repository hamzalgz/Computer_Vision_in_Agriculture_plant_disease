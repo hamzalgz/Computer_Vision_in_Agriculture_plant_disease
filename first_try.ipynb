version https://git-lfs.github.com/spec/v1
oid sha256:1623c1c8ee6a8485dbc6c9bf45c76171e184f3f02d310a6b3e7981948cb79c11
size 9943
