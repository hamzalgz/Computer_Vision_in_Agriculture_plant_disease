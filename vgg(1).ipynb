version https://git-lfs.github.com/spec/v1
oid sha256:f1320937d76a451a52b19ddda03a2ccc87717a0597f39d9735a2a67ed89c9231
size 213861
