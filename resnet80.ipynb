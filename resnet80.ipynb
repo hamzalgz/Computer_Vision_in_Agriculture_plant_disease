version https://git-lfs.github.com/spec/v1
oid sha256:4e328cc7267827db67ee5fc229eefc00963ec8789e0346ed04d5a8675a2cab58
size 408766
