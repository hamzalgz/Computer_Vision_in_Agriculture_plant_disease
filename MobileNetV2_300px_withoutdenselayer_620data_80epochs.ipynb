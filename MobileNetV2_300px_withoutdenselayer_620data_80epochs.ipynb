version https://git-lfs.github.com/spec/v1
oid sha256:444cb3605d84ce73ee48cdbb6e8422fc829486b9148b069b46d448bdb15f8c86
size 358274
