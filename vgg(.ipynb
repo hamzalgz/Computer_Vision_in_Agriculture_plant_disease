version https://git-lfs.github.com/spec/v1
oid sha256:300edcbe400b51ac52896d2aa9ba65a9ba15f3a4f0baf5aec878d715b6e8a3a1
size 302064
