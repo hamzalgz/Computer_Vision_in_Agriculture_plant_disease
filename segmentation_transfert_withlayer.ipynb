version https://git-lfs.github.com/spec/v1
oid sha256:460c468ad823fa3fef8cd60a89359ceb4e4f3a3e47f22a1ef7150fa0794bc714
size 99058
